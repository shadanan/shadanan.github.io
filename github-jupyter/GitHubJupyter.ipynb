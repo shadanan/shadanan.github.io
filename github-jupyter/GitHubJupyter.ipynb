{
 "cells": [
  {
   "cell_type": "markdown",
   "metadata": {
    "slideshow": {
     "slide_type": "slide"
    }
   },
   "source": [
    "# Pre-requisites\n",
    "\n",
    "To follow along, please do the following before we start:\n",
    "\n",
    "- [Install JupyterLab](https://jupyterlab.readthedocs.io/en/stable/getting_started/installation.html)\n",
    "- [Install git for your platform](https://git-scm.com/book/en/v2/Getting-Started-Installing-Git)\n",
    "- [Create a GitHub account](https://github.com/)"
   ]
  },
  {
   "cell_type": "markdown",
   "metadata": {
    "slideshow": {
     "slide_type": "slide"
    }
   },
   "source": [
    "# Git & GitHub for Data Scientists\n",
    "\n",
    "## Topics\n",
    "\n",
    "- [Git](https://git-scm.com/book/en/v2)\n",
    "- [GitHub](https://docs.github.com/en)\n",
    "- [ReviewNB](https://github.com/marketplace/review-notebook-app)\n",
    "- [nbdime](https://nbdime.readthedocs.io/en/latest/)"
   ]
  },
  {
   "cell_type": "markdown",
   "metadata": {
    "slideshow": {
     "slide_type": "slide"
    }
   },
   "source": [
    "# Questions to be Answered\n",
    "\n",
    "## Conceptual\n",
    "- What is Git?\n",
    "- What is GitHub?\n",
    "- What is version control?\n",
    "- What's a repository?\n",
    "- What's a commit?\n",
    "- What's a fork?\n",
    "- What's a branch?\n",
    "- What's a diff?\n",
    "- What's a conflict?\n",
    "- What's a pull request?\n",
    "\n",
    "## Practical\n",
    "- How do I push changes for others to see?\n",
    "- How do I merge the changes others have made?\n",
    "- How do I notify others that I have made changes?\n",
    "- How can I get an overview of the repository?\n",
    "- What's the difference between branches and forks and which one should I use?"
   ]
  },
  {
   "cell_type": "markdown",
   "metadata": {
    "slideshow": {
     "slide_type": "slide"
    }
   },
   "source": [
    "# What is GitHub?\n",
    "\n",
    "GitHub is a Git repository hosting platform. \n",
    "- Provides a central place to store your source code.\n",
    "- Enables collaboration with others through *pull requests*.\n",
    "- **[Also, it renders notebooks!](https://github.com/DataCircles/traffic_collisions_viz_team/blob/master/notebooks/EDA_traffic_collision_workshop.ipynb)**"
   ]
  },
  {
   "cell_type": "markdown",
   "metadata": {
    "slideshow": {
     "slide_type": "slide"
    }
   },
   "source": [
    "# Getting Started to Follow Along\n",
    "\n",
    "1. Start your Jupyter or JupyterLab:\n",
    "```sh\n",
    "jupyter lab\n",
    "```\n",
    "1. Open a terminal to run commands."
   ]
  },
  {
   "cell_type": "markdown",
   "metadata": {
    "slideshow": {
     "slide_type": "slide"
    }
   },
   "source": [
    "# Example\n",
    "\n",
    "Niwako and her team are collaborating on a Covid-19 dataset.\n",
    "\n",
    "![](git-shad-niwako-repo-setup.svg)"
   ]
  },
  {
   "cell_type": "markdown",
   "metadata": {
    "slideshow": {
     "slide_type": "slide"
    }
   },
   "source": [
    "# Demo - Commit & Push\n",
    "\n",
    "1. Create a new repo. – https://github.com/new\n",
    "1. Clone the repo locally.\n",
    "```sh\n",
    "git clone <repo> github-jupyter-covid\n",
    "```\n",
    "1. Create a new notebook file.\n",
    "   - Make a plot using data from [here](https://github.com/CSSEGISandData/COVID-19/tree/master/csse_covid_19_data/csse_covid_19_daily_reports_us).\n",
    "1. Stage, commit, and push the file back to GitHub.\n",
    "```sh\n",
    "git add .\n",
    "git commit -am \"<commit message>\"\n",
    "git push\n",
    "```\n",
    "1. Take a look at the Notebook on GitHub."
   ]
  },
  {
   "cell_type": "markdown",
   "metadata": {
    "slideshow": {
     "slide_type": "slide"
    }
   },
   "source": [
    "# What is Git?\n",
    "\n",
    "- A distributed version control system.\n",
    "\n",
    "## What's a version control system?\n",
    "\n",
    "- Software that keeps track of the history of files in a repository."
   ]
  },
  {
   "cell_type": "markdown",
   "metadata": {
    "slideshow": {
     "slide_type": "subslide"
    }
   },
   "source": [
    "# What's a repo (repository)?\n",
    "\n",
    "![](git-repository.svg)\n",
    "\n",
    "- The place where all the files in your project are stored,\n",
    "- Along with every version of those files that were committed,\n",
    "- Including files in other branches."
   ]
  },
  {
   "cell_type": "markdown",
   "metadata": {
    "slideshow": {
     "slide_type": "subslide"
    }
   },
   "source": [
    "# What's a branch?\n",
    "\n",
    "![](git-branches-merge.svg)\n",
    "\n",
    "- A separate line of commits off the main branch.\n",
    "- When done, we *merge* the branch:\n",
    "  - Either, back to the main branch.\n",
    "  - Or, into the child branch."
   ]
  },
  {
   "cell_type": "markdown",
   "metadata": {
    "slideshow": {
     "slide_type": "subslide"
    }
   },
   "source": [
    "# How does it work?\n",
    "\n",
    "![](git-distributed-repos.svg)\n",
    "\n",
    "- GitHub hosts your team's repository.\n",
    "- Your fork of the team's repo on GitHub is a **full copy** of the team's repo along with the full history of every file.\n",
    "- Your locally cloned repo of your fork is also a **full copy** of the ones on GitHub."
   ]
  },
  {
   "cell_type": "markdown",
   "metadata": {
    "slideshow": {
     "slide_type": "slide"
    }
   },
   "source": [
    "# What are Pull Requests?\n",
    "\n",
    "- A request to review changes before merging changes into the main branch.\n",
    "\n",
    "## What's a diff?\n",
    "\n",
    "- Reveals just the changes that were made, which makes the reviewer's life easier.\n",
    "\n",
    "[![](diff.png)](https://github.com/music-markdown/music-markdown/pull/87/files)\n"
   ]
  },
  {
   "cell_type": "markdown",
   "metadata": {
    "slideshow": {
     "slide_type": "slide"
    }
   },
   "source": [
    "# Revisiting our Example\n",
    "\n",
    "![](git-shad-niwako-repo-pr.svg)"
   ]
  },
  {
   "cell_type": "markdown",
   "metadata": {
    "slideshow": {
     "slide_type": "subslide"
    }
   },
   "source": [
    "# Demo - Fork & Pull Request\n",
    "\n",
    "1. Fork the [github-jupyter/covid](https://github.com/github-jupyter/covid)\n",
    "   - This is Shad's forked repo.\n",
    "1. Clone the repo locally\n",
    "```sh\n",
    "git clone <repo> shadanan-covid\n",
    "```\n",
    "1. Update the covid notebook -- add a chart dividing confirmed cases by population.\n",
    "   - Use state population data from [kaggle](https://www.kaggle.com/lucasvictor/us-state-populations-2018/data?select=State+Populations.csv) or from the original [source](https://worldpopulationreview.com/states).\n",
    "1. Use GitHub to create a pull request against upstream.\n",
    "1. Observe the state of your repo with:\n",
    "```sh\n",
    "git log --graph --all\n",
    "```"
   ]
  },
  {
   "cell_type": "markdown",
   "metadata": {
    "slideshow": {
     "slide_type": "subslide"
    }
   },
   "source": [
    "# Demo - ReviewNB\n",
    "\n",
    "- Notebooks are [JSON](https://en.wikipedia.org/wiki/JSON) - they don't diff well.\n",
    "\n",
    "1. Install [ReviewNB](https://github.com/marketplace/review-notebook-app).\n",
    "1. Use ReviewNB to view the diff and make a comment."
   ]
  },
  {
   "cell_type": "markdown",
   "metadata": {
    "slideshow": {
     "slide_type": "slide"
    }
   },
   "source": [
    "# Synchronizing Changes\n",
    "\n",
    "![](git-synchronization.svg)"
   ]
  },
  {
   "cell_type": "markdown",
   "metadata": {
    "slideshow": {
     "slide_type": "subslide"
    }
   },
   "source": [
    "## `git fetch`\n",
    "\n",
    "![](git-synchronization-1.svg)"
   ]
  },
  {
   "cell_type": "markdown",
   "metadata": {
    "slideshow": {
     "slide_type": "subslide"
    }
   },
   "source": [
    "## `git pull` (on master)\n",
    "\n",
    "![](git-synchronization-2.svg)"
   ]
  },
  {
   "cell_type": "markdown",
   "metadata": {
    "slideshow": {
     "slide_type": "subslide"
    }
   },
   "source": [
    "## `git push` (on branch)\n",
    "\n",
    "![](git-synchronization-3.svg)"
   ]
  },
  {
   "cell_type": "markdown",
   "metadata": {
    "slideshow": {
     "slide_type": "slide"
    }
   },
   "source": [
    "# What's a conflict?\n",
    "\n",
    "![](git-branches-conflict.svg)\n",
    "\n",
    "- A change that cannot be automatically reconciliated."
   ]
  },
  {
   "cell_type": "markdown",
   "metadata": {
    "slideshow": {
     "slide_type": "slide"
    }
   },
   "source": [
    "# Dealing with Conflicts\n",
    "\n",
    "- Jupyter notebooks aren't easy to merge because they are JSON docs.\n",
    "- ***The best way to deal with conflicts is to avoid them.***\n",
    "  - Don't work on the same notebook at the same time as someone else.\n",
    "  - Have everyone on your team make changes in a notebook with their initials.\n",
    "  - Have a single person be in charge of merging the final changes into the source of truth notebook."
   ]
  },
  {
   "cell_type": "markdown",
   "metadata": {
    "slideshow": {
     "slide_type": "fragment"
    }
   },
   "source": [
    "# But sometimes, you end up in a situation where you have no other choice. \n",
    "\n",
    "Let's see what options we have..."
   ]
  },
  {
   "cell_type": "markdown",
   "metadata": {
    "slideshow": {
     "slide_type": "notes"
    }
   },
   "source": [
    "# Demo - Simulating a Conflict\n",
    "\n",
    "- For demonstrations purposes, we need to simulate a conflict. \n",
    "- Niwako will add Positivity Rate to the notebook before we have merged Shad's per capita change in to upstream.\n",
    "- Because Niwako owns her repo, she pushes to master without doing a pull request."
   ]
  },
  {
   "cell_type": "markdown",
   "metadata": {
    "slideshow": {
     "slide_type": "slide"
    }
   },
   "source": [
    "# Revisiting our Example\n",
    "\n",
    "![](git-shad-niwako-repo-conflict.svg)"
   ]
  },
  {
   "cell_type": "markdown",
   "metadata": {
    "slideshow": {
     "slide_type": "subslide"
    }
   },
   "source": [
    "# Demo Cont'd - nbdime (***N***ote***B***ook ***DI***ff & ***ME***rge)\n",
    "\n",
    "1. Add `github-jupyter/covid` to our remotes.\n",
    "```sh\n",
    "git remote add upstream git@github.com:github-jupyter/covid.git\n",
    "```\n",
    "1. Use `git fetch upstream` to get Niwako's changes.\n",
    "1. Use `git log --graph --all` to view the state of all the repos.\n",
    "1. Try merging upstream/master\n",
    "```sh\n",
    "git merge upstream/master\n",
    "```\n",
    "   - Observe that the notebook is now broken.\n",
    "1. Abort the merge.\n",
    "```sh\n",
    "git merge --abort\n",
    "```\n",
    "1. [Install nbdime](https://nbdime.readthedocs.io/en/latest/installing.html).\n",
    "```sh\n",
    "pip3 install --upgrade nbdime\n",
    "nbdime extensions --enable\n",
    "```\n",
    "1. [Enable nbdime for the current repo](https://nbdime.readthedocs.io/en/latest/vcs.html)\n",
    "```sh\n",
    "nbdime config-git --enable\n",
    "```\n",
    "1. Run the merge again.\n",
    "```sh\n",
    "git merge origin/master\n",
    "```\n",
    "1. Use nbdime's merge tool:\n",
    "```sh\n",
    "git mergetool --tool nbdime -- *.ipynb\n",
    "```"
   ]
  },
  {
   "cell_type": "markdown",
   "metadata": {
    "slideshow": {
     "slide_type": "slide"
    }
   },
   "source": [
    "# Git Cheat Sheet\n",
    "\n",
    "- Git Config\n",
    "  - Global: `~/.gitconfig`\n",
    "  - Repo: `.git/config`\n",
    "- Status\n",
    "```sh\n",
    "git status\n",
    "```\n",
    "- Log / Dag\n",
    "```sh\n",
    "git log --graph --oneline --all\n",
    "```\n",
    "- Committing:\n",
    "```sh\n",
    "git add [file]\n",
    "git commit\n",
    "```\n",
    "- [GitHub's Cheet Sheet](https://github.github.com/training-kit/downloads/github-git-cheat-sheet.pdf)"
   ]
  },
  {
   "cell_type": "markdown",
   "metadata": {
    "slideshow": {
     "slide_type": "slide"
    }
   },
   "source": [
    "# Summary\n",
    "\n",
    "![](git-github-summary.svg)"
   ]
  },
  {
   "cell_type": "markdown",
   "metadata": {
    "slideshow": {
     "slide_type": "slide"
    }
   },
   "source": [
    "# Bonus Demo - black\n",
    "\n",
    "- An opinionated Python code formatter.\n",
    "- Useful when collaborating because it eliminates code style discussions in reviews.\n",
    "- Installation instructions are [here](https://jupyterlab-code-formatter.readthedocs.io/en/latest/index.html)."
   ]
  },
  {
   "cell_type": "markdown",
   "metadata": {
    "slideshow": {
     "slide_type": "slide"
    }
   },
   "source": [
    "# Configure `git dag`\n",
    "\n",
    "Run:\n",
    "\n",
    "```sh\n",
    "git log --graph --all\n",
    "```\n",
    "\n",
    "*Or, for something really special, put the following in to your ~/.gitconfig file:*\n",
    "\n",
    "```\n",
    "[alias]\n",
    "\tdag = log --graph --abbrev-commit --decorate --date=relative --format=format:'%C(bold blue)%h%C(reset) -%C(auto)%d%C(reset) %C(bold white)%s%C(reset)%n          %C(dim white)%an%C(reset) <%ae> -%C(reset) %C(cyan)%aD%C(reset) %C(green)(%ar)%C(reset)' --all\n",
    "```\n",
    "\n",
    "Now you can run:\n",
    "\n",
    "```sh\n",
    "git dag\n",
    "```"
   ]
  }
 ],
 "metadata": {
  "kernelspec": {
   "display_name": "Python 3",
   "language": "python",
   "name": "python3"
  },
  "language_info": {
   "codemirror_mode": {
    "name": "ipython",
    "version": 3
   },
   "file_extension": ".py",
   "mimetype": "text/x-python",
   "name": "python",
   "nbconvert_exporter": "python",
   "pygments_lexer": "ipython3",
   "version": "3.7.7"
  }
 },
 "nbformat": 4,
 "nbformat_minor": 4
}
