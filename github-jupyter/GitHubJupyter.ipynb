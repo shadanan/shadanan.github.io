{
 "cells": [
  {
   "cell_type": "markdown",
   "metadata": {
    "slideshow": {
     "slide_type": "slide"
    }
   },
   "source": [
    "# Git & GitHub for Data Scientists\n",
    "\n",
    "## Topics\n",
    "\n",
    "### Basics\n",
    "\n",
    "- [Git](https://git-scm.com/book/en/v2)\n",
    "- [GitHub](https://docs.github.com/en)\n",
    "- [ReviewNB](https://github.com/marketplace/review-notebook-app)\n",
    "\n",
    "### For the Pros\n",
    "\n",
    "- [nbdime](https://nbdime.readthedocs.io/en/latest/)\n",
    "- [black](https://jupyterlab-code-formatter.readthedocs.io/en/latest/index.html)"
   ]
  },
  {
   "cell_type": "markdown",
   "metadata": {
    "slideshow": {
     "slide_type": "slide"
    }
   },
   "source": [
    "# Pre-requisites\n",
    "\n",
    "To follow along, please do the following before we start:\n",
    "\n",
    "- [Install JupyterLab](https://jupyterlab.readthedocs.io/en/stable/getting_started/installation.html)\n",
    "- [Install git for your platform](https://git-scm.com/book/en/v2/Getting-Started-Installing-Git)\n",
    "- [Create a GitHub account](https://github.com/)"
   ]
  },
  {
   "cell_type": "markdown",
   "metadata": {
    "slideshow": {
     "slide_type": "slide"
    }
   },
   "source": [
    "# Why GitHub? "
   ]
  },
  {
   "cell_type": "markdown",
   "metadata": {
    "slideshow": {
     "slide_type": "fragment"
    }
   },
   "source": [
    "I honestly don't know."
   ]
  },
  {
   "cell_type": "markdown",
   "metadata": {
    "slideshow": {
     "slide_type": "fragment"
    }
   },
   "source": [
    "*It's such a pain...*"
   ]
  },
  {
   "cell_type": "markdown",
   "metadata": {
    "slideshow": {
     "slide_type": "slide"
    }
   },
   "source": [
    "# Why GitHub? "
   ]
  },
  {
   "cell_type": "markdown",
   "metadata": {},
   "source": [
    "## Good for:\n",
    "- Plain text files\n",
    "- Source code (e.g. Python, Java, JavaScript, C/C++, HTML, etc.)\n",
    "\n",
    "## Not so good for:\n",
    "- Basically, anything else, including:\n",
    "- Images\n",
    "- Video\n",
    "- Jupyter notebooks\n",
    "\n",
    "**[But, it renders notebooks!](https://github.com/DataCircles/traffic_collisions_viz_team/blob/master/notebooks/EDA_traffic_collision_workshop.ipynb)**"
   ]
  },
  {
   "cell_type": "markdown",
   "metadata": {
    "slideshow": {
     "slide_type": "slide"
    }
   },
   "source": [
    "# Demo\n",
    "\n",
    "1. Create a new repo – https://github.com/new\n",
    "1. Clone the repo locally\n",
    "    ```sh\n",
    "    git clone <repo>\n",
    "    ```\n",
    "1. Create a new notebook file\n",
    "1. Stage, commit, and push the file back to GitHub"
   ]
  },
  {
   "cell_type": "markdown",
   "metadata": {
    "slideshow": {
     "slide_type": "slide"
    }
   },
   "source": [
    "# What is Git?\n",
    "\n",
    "Git is a distributed version control system."
   ]
  },
  {
   "cell_type": "markdown",
   "metadata": {
    "slideshow": {
     "slide_type": "fragment"
    }
   },
   "source": [
    "# What's a version control system?\n",
    "\n",
    "Software that keeps track of the history of files in a repository."
   ]
  },
  {
   "cell_type": "markdown",
   "metadata": {
    "slideshow": {
     "slide_type": "subslide"
    }
   },
   "source": [
    "# What's a repository?\n",
    "\n",
    "![](git-repository.svg)\n",
    "\n",
    "- An ordered collection of snapshots of files.\n",
    "- Each snapshot is called a commit.\n",
    "- Each commit is a point in time whose state can be restored."
   ]
  },
  {
   "cell_type": "markdown",
   "metadata": {
    "slideshow": {
     "slide_type": "subslide"
    }
   },
   "source": [
    "# What makes it distributed?\n",
    "\n",
    "![](git-distributed-repos.svg)\n",
    "\n",
    "- The repository isn't just stored on a central server like GitHub.\n",
    "- Your locally cloned repo is a **full copy** of the one on GitHub along with the full history of every file."
   ]
  },
  {
   "cell_type": "markdown",
   "metadata": {
    "slideshow": {
     "slide_type": "subslide"
    }
   },
   "source": [
    "# What's a branch?\n",
    "\n",
    "![](git-branches.svg)\n",
    "\n",
    "- A separate line of commits off the main branch.\n",
    "- When done, we *merge* the branch back to the master."
   ]
  },
  {
   "cell_type": "code",
   "execution_count": null,
   "metadata": {
    "slideshow": {
     "slide_type": "slide"
    }
   },
   "outputs": [],
   "source": []
  }
 ],
 "metadata": {
  "kernelspec": {
   "display_name": "Python 3",
   "language": "python",
   "name": "python3"
  },
  "language_info": {
   "codemirror_mode": {
    "name": "ipython",
    "version": 3
   },
   "file_extension": ".py",
   "mimetype": "text/x-python",
   "name": "python",
   "nbconvert_exporter": "python",
   "pygments_lexer": "ipython3",
   "version": "3.7.7"
  }
 },
 "nbformat": 4,
 "nbformat_minor": 4
}
